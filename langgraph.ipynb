{
 "cells": [
  {
   "cell_type": "code",
   "execution_count": 1,
   "metadata": {},
   "outputs": [
    {
     "name": "stdout",
     "output_type": "stream",
     "text": [
      "Collecting tag\n",
      "  Downloading tag-0.5.tar.gz (758 kB)\n",
      "     ---------------------------------------- 0.0/758.7 kB ? eta -:--:--\n",
      "     ------------------------------------- 758.7/758.7 kB 31.0 MB/s eta 0:00:00\n",
      "  Preparing metadata (setup.py): started\n",
      "  Preparing metadata (setup.py): finished with status 'done'\n",
      "Collecting intervaltree>=3.0 (from tag)\n",
      "  Downloading intervaltree-3.1.0.tar.gz (32 kB)\n",
      "  Preparing metadata (setup.py): started\n",
      "  Preparing metadata (setup.py): finished with status 'done'\n",
      "Requirement already satisfied: networkx>=2.0 in c:\\users\\user\\anaconda3\\envs\\nlp\\lib\\site-packages (from tag) (3.3)\n",
      "Collecting sortedcontainers<3.0,>=2.0 (from intervaltree>=3.0->tag)\n",
      "  Downloading sortedcontainers-2.4.0-py2.py3-none-any.whl.metadata (10 kB)\n",
      "Downloading sortedcontainers-2.4.0-py2.py3-none-any.whl (29 kB)\n",
      "Building wheels for collected packages: tag, intervaltree\n",
      "  Building wheel for tag (setup.py): started\n",
      "  Building wheel for tag (setup.py): finished with status 'done'\n",
      "  Created wheel for tag: filename=tag-0.5-py3-none-any.whl size=777731 sha256=320195d73ac53feacea8e0973ef08495a18d414c8934e7d12d2d99e8d78f24fc\n",
      "  Stored in directory: c:\\users\\user\\appdata\\local\\pip\\cache\\wheels\\41\\d5\\d8\\c0e6252cf8942fc92dd0bb00232f1470cb85b29e528b1a2fc3\n",
      "  Building wheel for intervaltree (setup.py): started\n",
      "  Building wheel for intervaltree (setup.py): finished with status 'done'\n",
      "  Created wheel for intervaltree: filename=intervaltree-3.1.0-py2.py3-none-any.whl size=26125 sha256=788b86d17daccdd0e9598c666739f155a372efcbded0f51388d6a9c999130a68\n",
      "  Stored in directory: c:\\users\\user\\appdata\\local\\pip\\cache\\wheels\\fa\\80\\8c\\43488a924a046b733b64de3fac99252674c892a4c3801c0a61\n",
      "Successfully built tag intervaltree\n",
      "Installing collected packages: sortedcontainers, intervaltree, tag\n",
      "Successfully installed intervaltree-3.1.0 sortedcontainers-2.4.0 tag-0.5\n"
     ]
    }
   ],
   "source": [
    "!pip install tag"
   ]
  },
  {
   "cell_type": "code",
   "execution_count": 2,
   "metadata": {},
   "outputs": [],
   "source": [
    "from langchain.chains import ConversationChain\n",
    "from langchain.prompts import PromptTemplate\n",
    "from langchain.vectorstores import FAISS\n",
    "from langchain_openai import ChatOpenAI\n",
    "from langchain.sql_database import SQLDatabase\n",
    "from langchain.chains.question_answering import load_qa_chain\n",
    "from langchain_experimental.sql import SQLDatabaseChain"
   ]
  },
  {
   "cell_type": "code",
   "execution_count": 3,
   "metadata": {},
   "outputs": [
    {
     "data": {
      "text/plain": [
       "True"
      ]
     },
     "execution_count": 3,
     "metadata": {},
     "output_type": "execute_result"
    }
   ],
   "source": [
    "from dotenv import load_dotenv\n",
    "load_dotenv()"
   ]
  },
  {
   "cell_type": "code",
   "execution_count": 4,
   "metadata": {},
   "outputs": [],
   "source": [
    "# Step 1: LLM 초기화\n",
    "llm = ChatOpenAI(model=\"gpt-4o-mini\", temperature=0.5)"
   ]
  },
  {
   "cell_type": "code",
   "execution_count": 5,
   "metadata": {},
   "outputs": [],
   "source": [
    "# Step 2: 필터링 (부동산 관련 여부 판단)\n",
    "filter_prompt = PromptTemplate(\n",
    "    input_variables=[\"question\"],\n",
    "    template=\"'{question}'이 부동산과 관련된 질문인지 여부를 'Yes' 또는 'No'로 답변하세요.\"\n",
    ")"
   ]
  },
  {
   "cell_type": "code",
   "execution_count": 6,
   "metadata": {},
   "outputs": [],
   "source": [
    "def is_real_estate_related(question: str) -> bool:\n",
    "    response = llm(filter_prompt.format(question=question))\n",
    "    return \"Yes\" in response"
   ]
  },
  {
   "cell_type": "code",
   "execution_count": 7,
   "metadata": {},
   "outputs": [],
   "source": [
    "# Step 3: Entity 추출\n",
    "entity_extraction_prompt = PromptTemplate(\n",
    "    input_variables=[\"question\"],\n",
    "    template=\"'{question}'에서 필요한 부동산 관련 엔티티(예: 도시, 가격, 평수 등)를 추출하세요.\"\n",
    ")"
   ]
  },
  {
   "cell_type": "code",
   "execution_count": 8,
   "metadata": {},
   "outputs": [
    {
     "name": "stderr",
     "output_type": "stream",
     "text": [
      "c:\\Users\\USER\\anaconda3\\envs\\nlp\\lib\\site-packages\\langchain_experimental\\sql\\base.py:77: UserWarning: Directly instantiating an SQLDatabaseChain with an llm is deprecated. Please instantiate with llm_chain argument or using the from_llm class method.\n",
      "  warnings.warn(\n",
      "C:\\Users\\USER\\AppData\\Local\\Temp\\ipykernel_13068\\1408176497.py:2: LangChainDeprecationWarning: The method `BaseChatModel.__call__` was deprecated in langchain-core 0.1.7 and will be removed in 1.0. Use :meth:`~invoke` instead.\n",
      "  response = llm(filter_prompt.format(question=question))\n"
     ]
    },
    {
     "name": "stdout",
     "output_type": "stream",
     "text": [
      "부동산 관련 질문이 아닙니다. 다른 질문을 해주세요.\n"
     ]
    }
   ],
   "source": [
    "\n",
    "def extract_entities(question: str) -> list:\n",
    "    response = llm(entity_extraction_prompt.format(question=question))\n",
    "    return response.split(\", \")  # 간단히 리스트로 변환\n",
    "\n",
    "###\n",
    "# Step 4: SQL 설정\n",
    "db = SQLDatabase.from_uri(\"sqlite:///./data/real_estate_transactions.db\")  # SQLite 예시\n",
    "sql_chain = SQLDatabaseChain(llm=llm, database=db, verbose=True)\n",
    "\n",
    "def query_sql(entities: dict) -> str:\n",
    "    query = f\"\"\"\n",
    "    SELECT * FROM real_estate_table\n",
    "    WHERE city='{entities.get(\"city\")}' \n",
    "      AND price <= {entities.get(\"price\", 999999999)}\n",
    "      AND size >= {entities.get(\"size\", 0)};\n",
    "    \"\"\"\n",
    "    return sql_chain.run(query)\n",
    "\n",
    "# Step 5: 추가 질문 생성\n",
    "missing_entity_prompt = PromptTemplate(\n",
    "    input_variables=[\"missing_entities\"],\n",
    "    template=\"질문을 완성하기 위해 다음 엔티티를 포함한 추가 질문을 생성하세요: {missing_entities}\"\n",
    ")\n",
    "\n",
    "def generate_followup_question(missing_entities: list) -> str:\n",
    "    response = llm(missing_entity_prompt.format(missing_entities=\", \".join(missing_entities)))\n",
    "    return response\n",
    "\n",
    "# Step 6: 전체 흐름 구현\n",
    "def handle_question(question: str):\n",
    "    # 1. 질문 필터링\n",
    "    if not is_real_estate_related(question):\n",
    "        return \"부동산 관련 질문이 아닙니다. 다른 질문을 해주세요.\"\n",
    "\n",
    "    # 2. Entity 추출\n",
    "    entities = extract_entities(question)\n",
    "    required_entities = {\"city\", \"price\", \"size\"}\n",
    "    missing_entities = required_entities - set(entities)\n",
    "\n",
    "    # 3. 부족한 정보가 있는 경우 추가 질문 요청\n",
    "    if missing_entities:\n",
    "        return generate_followup_question(missing_entities)\n",
    "\n",
    "    # 4. SQL 실행 및 결과 반환\n",
    "    result = query_sql(entities)\n",
    "    return result or \"검색된 결과가 없습니다.\"\n",
    "\n",
    "# # Step 7: 벡터DB (추가적인 응답을 위한 설정)\n",
    "# vector_store = FAISS.load_local(\"vector_db_index\")\n",
    "\n",
    "def query_vector_db(question: str):\n",
    "    docs = vector_store.similarity_search(question, k=1)\n",
    "    return docs[0].page_content if docs else \"관련 정보를 찾을 수 없습니다.\"\n",
    "\n",
    "# Step 8: 통합 핸들러\n",
    "def main_handler(question: str):\n",
    "    sql_response = handle_question(question)\n",
    "    if \"검색된 결과가 없습니다\" in sql_response:\n",
    "        vector_response = query_vector_db(question)\n",
    "        return vector_response\n",
    "    return sql_response\n",
    "\n",
    "\n",
    "# 테스트\n",
    "if __name__ == \"__main__\":\n",
    "    question = \"강남에서 전세 10억 이하 아파트를 찾고 싶어요.\"\n",
    "    print(main_handler(question))\n"
   ]
  },
  {
   "cell_type": "code",
   "execution_count": 13,
   "metadata": {},
   "outputs": [
    {
     "name": "stdout",
     "output_type": "stream",
     "text": [
      "Collecting graphviz\n",
      "  Using cached graphviz-0.20.3-py3-none-any.whl.metadata (12 kB)\n",
      "Using cached graphviz-0.20.3-py3-none-any.whl (47 kB)\n",
      "Installing collected packages: graphviz\n",
      "Successfully installed graphviz-0.20.3\n"
     ]
    }
   ],
   "source": [
    "!pip install graphviz"
   ]
  },
  {
   "cell_type": "code",
   "execution_count": 11,
   "metadata": {},
   "outputs": [],
   "source": [
    "from langgraph.graph import StateGraph, END, START\n",
    "from typing import TypedDict, Annotated, Sequence\n",
    "import json\n",
    "\n",
    "# 상태 타입 정의\n",
    "class AgentState(TypedDict):\n",
    "    messages: Sequence[tuple[str, str]]\n",
    "    is_real_estate: bool\n",
    "    entities: dict\n",
    "    sql_result: str\n",
    "\n",
    "# 엔티티 추출 프롬프트 수정\n",
    "entity_extraction_prompt = PromptTemplate(\n",
    "    input_variables=[\"question\"],\n",
    "    template=\"\"\"다음 부동산 관련 질문에서 필요한 정보를 추출하여 정확히 JSON 형식으로만 응답하세요.\n",
    "\n",
    "질문: '{question}'\n",
    "\n",
    "반드시 다음 형식으로 JSON을 반환해주세요:\n",
    "{{\n",
    "    \"city\": \"추출된 지역명 (예: 강남구)\",\n",
    "    \"price\": 추출된 금액(만원 단위 숫자),\n",
    "    \"size\": 추출된 면적(없으면 0)\n",
    "}}\n",
    "\n",
    "예시:\n",
    "질문: \"강남구에서 전세 10억 이하 아파트 찾아줘\"\n",
    "응답: {{\"city\": \"강남구\", \"price\": 100000, \"size\": 0}}\n",
    "\n",
    "참고사항:\n",
    "- 금액은 반드시 만원 단위 숫자로 변환 (예: 10억 -> 100000)\n",
    "- 지역명이 없으면 빈 문자열 (\"\")\n",
    "- 면적이 없으면 0\n",
    "- 다른 설명 없이 JSON만 반환\n",
    "\n",
    "응답:\"\"\"\n",
    ")\n",
    "\n",
    "def check_real_estate(state: AgentState) -> AgentState:\n",
    "    \"\"\"부동산 관련 질문인지 확인\"\"\"\n",
    "    question = state[\"messages\"][-1][1]\n",
    "    response = llm(filter_prompt.format(question=question))\n",
    "    # AIMessage의 content 속성을 사용\n",
    "    content = response.content if hasattr(response, 'content') else str(response)\n",
    "    is_real_estate = \"yes\" in content.lower()\n",
    "    return {\"is_real_estate\": is_real_estate}\n",
    "\n",
    "def query_database(state: AgentState) -> AgentState:\n",
    "    \"\"\"데이터베이스 쿼리 실행\"\"\"\n",
    "    entities = state[\"entities\"]\n",
    "    try:\n",
    "        result = db.run(f\"\"\"\n",
    "            SELECT 시군구, 단지명, \"보증금(만원)\", \"전용면적(㎡)\"\n",
    "            FROM apartment_rent\n",
    "            WHERE 시군구 LIKE '%{entities[\"city\"]}%'\n",
    "            AND CAST(REPLACE(\"보증금(만원)\", ',', '') AS INTEGER) <= {entities[\"price\"]}\n",
    "            AND 전월세구분 = '전세'\n",
    "            ORDER BY CAST(REPLACE(\"보증금(만원)\", ',', '') AS INTEGER) ASC\n",
    "            LIMIT 5\n",
    "        \"\"\")\n",
    "        return {\"sql_result\": result}\n",
    "    except Exception as e:\n",
    "        print(f\"SQL 쿼리 실행 중 오류 발생: {str(e)}\")\n",
    "        return {\"sql_result\": \"데이터를 찾을 수 없습니다.\"}\n",
    "\n",
    "def extract_entities_node(state: AgentState) -> AgentState:\n",
    "    \"\"\"엔티티 추출\"\"\"\n",
    "    question = state[\"messages\"][-1][1]\n",
    "    entities = extract_entities(question)  # 기존 extract_entities 함수 사용\n",
    "    return {\"entities\": entities}\n",
    "\n",
    "# 그래프 생성\n",
    "workflow = StateGraph(AgentState)\n",
    "\n",
    "# 노드 추가\n",
    "workflow.add_node(\"check_real_estate\", check_real_estate)\n",
    "workflow.add_node(\"extract_entities\", extract_entities_node)\n",
    "workflow.add_node(\"query_database\", query_database)\n",
    "\n",
    "# 엣지 추가 (START 노드 포함)\n",
    "workflow.add_edge(START, \"check_real_estate\")  # START에서 시작하는 엣지 추가\n",
    "workflow.add_edge(\"check_real_estate\", \"extract_entities\")\n",
    "workflow.add_conditional_edges(\n",
    "    \"check_real_estate\",\n",
    "    lambda x: \"extract_entities\" if x[\"is_real_estate\"] else END\n",
    ")\n",
    "workflow.add_edge(\"extract_entities\", \"query_database\")\n",
    "workflow.add_edge(\"query_database\", END)  # 마지막 노드에서 END로 가는 엣지 추가\n",
    "\n",
    "# 그래프 컴파일\n",
    "app = workflow.compile()\n",
    "\n",
    "# 실행 및 시각화\n",
    "from graphviz import Digraph\n",
    "\n",
    "def visualize_graph(workflow):\n",
    "    dot = Digraph(comment='Real Estate Query Workflow')\n",
    "    dot.attr(rankdir='LR')\n",
    "    \n",
    "    # 노드 추가\n",
    "    dot.node('start', 'Start', shape='circle')\n",
    "    dot.node('check', 'Check Real Estate', shape='box')\n",
    "    dot.node('extract', 'Extract Entities', shape='box')\n",
    "    dot.node('query', 'Query Database', shape='box')\n",
    "    dot.node('end', 'End', shape='circle')\n",
    "    \n",
    "    # 엣지 추가\n",
    "    dot.edge('start', 'check')\n",
    "    dot.edge('check', 'extract', 'is real estate')\n",
    "    dot.edge('check', 'end', 'not real estate')\n",
    "    dot.edge('extract', 'query')\n",
    "    dot.edge('query', 'end')\n",
    "    \n",
    "    return dot\n",
    "\n",
    "# 그래프 시각화\n",
    "graph = visualize_graph(workflow)\n",
    "graph.render('real_estate_workflow', format='png', cleanup=True)\n",
    "\n",
    "# 테스트\n",
    "example_query = \"강남구에서 전세 10억 이하 아파트를 찾고 싶어요.\"\n",
    "result = app.invoke({\n",
    "    \"messages\": [(\"user\", example_query)],\n",
    "    \"is_real_estate\": False,\n",
    "    \"entities\": {},\n",
    "    \"sql_result\": \"\"\n",
    "})"
   ]
  }
 ],
 "metadata": {
  "kernelspec": {
   "display_name": "nlp",
   "language": "python",
   "name": "python3"
  },
  "language_info": {
   "codemirror_mode": {
    "name": "ipython",
    "version": 3
   },
   "file_extension": ".py",
   "mimetype": "text/x-python",
   "name": "python",
   "nbconvert_exporter": "python",
   "pygments_lexer": "ipython3",
   "version": "3.10.14"
  }
 },
 "nbformat": 4,
 "nbformat_minor": 2
}
