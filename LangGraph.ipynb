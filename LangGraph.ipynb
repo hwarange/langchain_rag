{
 "cells": [
  {
   "cell_type": "markdown",
   "metadata": {},
   "source": [
    "# env 및 langsmith "
   ]
  },
  {
   "cell_type": "code",
   "execution_count": 20,
   "metadata": {},
   "outputs": [],
   "source": [
    "from dotenv import load_dotenv\n",
    "from langsmith import Client\n",
    "\n",
    "load_dotenv()\n",
    "client = Client()"
   ]
  },
  {
   "cell_type": "markdown",
   "metadata": {},
   "source": [
    "# 그래프 상태 정의"
   ]
  },
  {
   "cell_type": "code",
   "execution_count": 21,
   "metadata": {},
   "outputs": [],
   "source": [
    "from typing import TypedDict\n",
    "class RealEstateState(TypedDict): # 그래프의 상태를 정의하는 클래스\n",
    "    real_estate_type: str  # 부동산 유형 (예: 아파트, 상가)\n",
    "    keywordlist: list[str] # 키워드 리스트\n",
    "    questions: list[str]        # 유저 질문\n",
    "    query: str             # 생성된 SQL 쿼리\n",
    "    results: list[dict]          # 쿼리 결과"
   ]
  },
  {
   "cell_type": "markdown",
   "metadata": {},
   "source": [
    "# 필터, 재질문 노드 생성 및 조건부 엣지"
   ]
  },
  {
   "cell_type": "code",
   "execution_count": 22,
   "metadata": {},
   "outputs": [],
   "source": [
    "from langgraph.graph import StateGraph, START, END\n",
    "from langchain.prompts import PromptTemplate\n",
    "from langchain_openai.chat_models.base import ChatOpenAI\n",
    "# Step 1: LLM 초기화\n",
    "llm = ChatOpenAI(model=\"gpt-4o-mini\", temperature=0.8)\n",
    "# Step 2: StateGraph 정의\n",
    "graph = StateGraph(RealEstateState)\n",
    "# Step 3: 노드 정의\n",
    "## 필터링 노드\n",
    "def filter_node(state: RealEstateState) -> RealEstateState :\n",
    "    filter_prompt = PromptTemplate(\n",
    "        input_variables=[\"questions\"],\n",
    "        template=\"\"\" '{questions}'이 부동산과 관련된 질문인지를 파악하고 다음과 같은 규칙을 지켜라\n",
    "        1. 부동산 관련 질문이 아니면 'None'을 반환해라\n",
    "        2. 부동산 관련 질문 중 에서 매매면 '매매'를 반환해라\n",
    "        3. 전세 그리고 월세랑 관련된 질문이면 '전월세'를 반환해라.\n",
    "        \"\"\")\n",
    "    prompt=filter_prompt.format(questions=state[\"questions\"])\n",
    "    response = llm(messages=[{\"role\": \"system\", \"content\": prompt}])\n",
    "    real_estate_type = response.content\n",
    "    return RealEstateState(real_estate_type=real_estate_type)\n",
    "\n",
    "def re_questions(state: RealEstateState) -> RealEstateState:\n",
    "    print(\"=================================\")\n",
    "    print(\"[re_questions] 질문이 부동산 관련이 아니거나 제대로 인식되지 않았습니다.\")\n",
    "    new_question = input(\"새로운 부동산 질문을 입력해주세요: \")\n",
    "    print(\"=================================\")\n",
    "    # 수정된 질문을 state에 업데이트\n",
    "    return RealEstateState(questions=new_question)\n",
    "\n",
    "def fiter_router(state: RealEstateState):\n",
    "    # This is the router\n",
    "    real_estate_type = state[\"real_estate_type\"]\n",
    "    if real_estate_type == \"매매\":\n",
    "        return \"매매\"\n",
    "    elif real_estate_type == \"전월세\":\n",
    "        return \"전월세\"\n",
    "    else:\n",
    "        return 'None'"
   ]
  },
  {
   "cell_type": "markdown",
   "metadata": {},
   "source": [
    "# DB 생성"
   ]
  },
  {
   "cell_type": "code",
   "execution_count": 23,
   "metadata": {},
   "outputs": [],
   "source": [
    "import sqlite3\n",
    "from langchain_community.utilities.sql_database import SQLDatabase\n",
    "from sqlalchemy import create_engine\n",
    "from sqlalchemy.pool import StaticPool\n",
    "\n",
    "def get_db_engine(db_path):\n",
    "    \"\"\"로컬 SQLite DB 파일과 연결된 엔진을 생성합니다.\"\"\"\n",
    "    try:\n",
    "        # SQLite DB 파일과 연결\n",
    "        connection = sqlite3.connect(db_path, check_same_thread=False)\n",
    "        # SQLAlchemy 엔진 생성\n",
    "        engine = create_engine(\n",
    "            f\"sqlite:///{db_path}\",\n",
    "            poolclass=StaticPool,\n",
    "            connect_args={\"check_same_thread\": False}\n",
    "        )\n",
    "        return engine\n",
    "    except Exception as e:\n",
    "        print(f\"데이터베이스 연결 중 오류 발생: {str(e)}\")\n",
    "        return None\n",
    "    \n",
    "    \n",
    "# DB 파일 경로 지정\n",
    "db_path = './data/real_estate.db'\n",
    "engine = get_db_engine(db_path)\n",
    "db = SQLDatabase(\n",
    "    engine,\n",
    "    sample_rows_in_table_info=False  # 샘플 행 조회 비활성화\n",
    ")\n"
   ]
  },
  {
   "cell_type": "markdown",
   "metadata": {},
   "source": [
    "# KeyWord 추출"
   ]
  },
  {
   "cell_type": "code",
   "execution_count": 24,
   "metadata": {},
   "outputs": [],
   "source": [
    "def keyword_filter(state: RealEstateState) -> RealEstateState:\n",
    "    keyword_filter_prompt = PromptTemplate(\n",
    "        input_variables=[\"questions\"],\n",
    "        template=\"\"\" '{questions}'을 보고 문장에 핵심 키워드들을 추출하고 다음과 같은 규칙을 지켜라\n",
    "        1. 반환형식은 집합(set)으로 반환해라\n",
    "        \"\"\")\n",
    "    prompt=keyword_filter_prompt.format(questions=state[\"questions\"])\n",
    "    response = llm(messages=[{\"role\": \"system\", \"content\": prompt}])\n",
    "    keyword_filter = response.content\n",
    "    return RealEstateState(keywordlist=keyword_filter)"
   ]
  },
  {
   "cell_type": "code",
   "execution_count": 25,
   "metadata": {},
   "outputs": [],
   "source": [
    "def missing_keyword(state: RealEstateState) -> RealEstateState:\n",
    "    print(\"=================================\")\n",
    "    print(\"[missing_keyword] 키워드가 부족합니다. 좀 더 자세하게 적어주세요!!!\")\n",
    "    new_keyword = input(\"키워드를 입력해주세요: \")\n",
    "    print(\"=================================\")\n",
    "    # 수정된 질문을 state에 업데이트\n",
    "    return RealEstateState(questions=new_keyword)"
   ]
  },
  {
   "cell_type": "code",
   "execution_count": 26,
   "metadata": {},
   "outputs": [],
   "source": [
    "def keyword_router(state: RealEstateState):\n",
    "    # This is the router\n",
    "    keyword_list = state[\"keywordlist\"]\n",
    "    if len(keyword_list) == 0:\n",
    "        return \"missing_keyword\"\n",
    "    elif ('매매', '월세', '전세', '지역', '액수', '가격') not in keyword_list:\n",
    "        return \"missing_keyword\"\n",
    "    else:\n",
    "        return \"None\""
   ]
  },
  {
   "cell_type": "markdown",
   "metadata": {},
   "source": [
    "# 전월세 테이블 노드 생성"
   ]
  },
  {
   "cell_type": "code",
   "execution_count": 27,
   "metadata": {},
   "outputs": [],
   "source": [
    "def property_rental(state: RealEstateState) -> RealEstateState:\n",
    "    property_rental = db.get_table_info(table_names=[\"property_rentals\", \"property_info\", \"property_locations\"])\n",
    "\n",
    "    rental_prompt = \"\"\"\n",
    "    질문:\n",
    "    {questions}\n",
    "\n",
    "    사용 가능한 테이블 스키마:\n",
    "    {property_rental}\n",
    "\n",
    "    당신은 SQL 전문가입니다. \n",
    "    데이터베이스는 {dialect} 방언을 사용합니다.\n",
    "\n",
    "    다음 규칙을 따라주세요:\n",
    "    1. 한국어로 응답해주세요.\n",
    "    2. SQL 쿼리를 작성할 때는 명확하고 효율적이어야 합니다.\n",
    "    3. 결과는 최대 {top_k}개까지만 보여주세요.\n",
    "    4. 금액에 관련된 쿼리를 작성할 때는 쉼표(,)를 제거하고 숫자로 변환해야 합니다.\n",
    "    5. 에러가 발생하면 원인을 설명하고 수정된 쿼리를 제시해주세요.\n",
    "    6. rental_type이 30051B1는 전세입니다.\n",
    "    7. rental_type이 30051B2는 월세입니다.\n",
    "    8. 별도의 멘트 없이 오직 쿼리만 작성해 주세요.\n",
    "    9. `CAST(... AS DECIMAL)` 대신 `CAST(... AS INTEGER)`를 사용하세요.\n",
    "    10. 무조건 나와야 하는 값은 다음과 같습니다:\n",
    "        - pl.sigungu\n",
    "        - pi.description\n",
    "        - pr.deposit\n",
    "        - pl.latitude\n",
    "        - pl.longitude\n",
    "\n",
    "    예시:\n",
    "\n",
    "    - 질문: \"서울시 강남구 10억 이하 전세를 추천해줘\"\n",
    "    \n",
    "    SELECT \n",
    "        pl.sigungu,\n",
    "        pi.description,\n",
    "        pr.deposit AS \"보증금(만원)\",\n",
    "        pl.latitude,\n",
    "        pl.longitude\n",
    "    FROM property_rentals pr\n",
    "    JOIN property_info pi ON pr.property_id = pi.property_id\n",
    "    JOIN property_locations pl ON pi.location_id = pl.location_id\n",
    "    WHERE pl.sigungu LIKE '%강남구%'\n",
    "    AND pr.rental_type = '30051B1'\n",
    "    AND CAST(REPLACE(pr.deposit, ',', '') AS INTEGER) <= 10000;\n",
    "\n",
    "    이런 식으로 쿼리를 짜주세요.\n",
    "    \"\"\"\n",
    "\n",
    "    prompt = rental_prompt.format(\n",
    "        dialect=\"SQLite\",\n",
    "        top_k=5,\n",
    "        property_rental=property_rental,\n",
    "        questions=state[\"questions\"]\n",
    "    )\n",
    "\n",
    "    response = llm(messages=[{\"role\": \"system\", \"content\": prompt}])\n",
    "\n",
    "    llm_query = response.content\n",
    "\n",
    "    return RealEstateState(query=llm_query)"
   ]
  },
  {
   "cell_type": "markdown",
   "metadata": {},
   "source": [
    "# 매매 테이블 노드 생성"
   ]
  },
  {
   "cell_type": "code",
   "execution_count": 28,
   "metadata": {},
   "outputs": [],
   "source": [
    "def property_sales(state: RealEstateState) -> RealEstateState:\n",
    "    property_sales = db.get_table_info(table_names=[\"property_sales\", \"property_info\", \"property_locations\"])\n",
    "    sales_prompt = \"\"\"\n",
    "    질문을 기반으로 SQL 쿼리를 작성하세요.\n",
    "\n",
    "가능한 테이블 스키마와 데이터베이스 방언을 고려하되, 아래의 규칙을 반드시 준수하십시오:\n",
    "\n",
    "- 한국어로 응답하세요.\n",
    "- 작성한 쿼리는 명확하며 효율적이어야 합니다.\n",
    "- 결과는 최대 {top_k}개로 제한합니다.\n",
    "- 금액 관련 숫자는 쉼표(,)를 제거하고 숫자로 변환합니다.\n",
    "- 쿼리 오류 시 원인을 설명하고 수정된 쿼리를 제시합니다.\n",
    "- 쿼리만 작성하며, 추가적인 설명 없이 결과를 제공합니다.\n",
    "- 금액 변환 시 `CAST(... AS INTEGER)`를 사용합니다.\n",
    "- 쿼리에 꼭 포함해야 할 값: \n",
    "  - pl.sigungu\n",
    "  - pi.description\n",
    "  - ps.price\n",
    "  - pl.latitude\n",
    "  - pl.longitude\n",
    "\n",
    "# Steps\n",
    "\n",
    "1. 주어진 질문을 파악하고 요구사항을 SQL 쿼리로 변환합니다.\n",
    "2. 필요한 테이블과 그 관계를 파악하여 JOIN 구문을 사용합니다.\n",
    "3. WHERE 절을 통해 필요한 조건을 부여합니다.\n",
    "4. SELECT 문의 결과는 설명된 필요한 필드만 포함하도록 합니다.\n",
    "5. 결과가 {top_k}개 이하인지 확인합니다.\n",
    "6. 쿼리에 에러가 있을 경우 원인을 찾아 수정합니다.\n",
    "7. price는 쉼표를 제거하고 숫자로 변환시 단위가 만원임을 유의합니다.\n",
    "\n",
    "# Output Format\n",
    "\n",
    "- 오직 SQL 쿼리만 작성하세요. \n",
    "- 쿼리는 간단명료하고 조건에 맞춰 설계해야 합니다.\n",
    "\n",
    "# Examples\n",
    "\n",
    "- 질문: \"서울시 강남구 10억 이하 매물을 추천해줘\"\n",
    "\n",
    "```sql\n",
    "SELECT \n",
    "  pl.sigungu,\n",
    "  pi.description,\n",
    "  ps.price AS \"금액(만원)\",\n",
    "  pl.latitude,\n",
    "  pl.longitude\n",
    "FROM property_sales ps\n",
    "JOIN property_info pi ON ps.property_id = pi.property_id\n",
    "JOIN property_locations pl ON pi.location_id = pl.location_id\n",
    "WHERE pl.sigungu LIKE '%강남구%'\n",
    "AND CAST(REPLACE(ps.price, ',', '') AS INTEGER) <= 100000\n",
    "LIMIT {top_k};\n",
    "```\n",
    "\n",
    "# Notes\n",
    "\n",
    "- 에러가 발생 시 문제의 원인을 파악하고, 적절히 수정한 쿼리를 제공해야 합니다.\n",
    "- 쿼리는 주어진 데이터베이스 방언 {dialect}에 맞게 작성되어야 합니다.\n",
    "- 금액은 반드시 쉼표를 제거한 정수형으로 변환해야 합니다.\n",
    "\"\"\"\n",
    "\n",
    "    prompt=sales_prompt.format(\n",
    "        dialect=\"SQLite\",\n",
    "        top_k=5, \n",
    "        property_sales=property_sales,\n",
    "        questions=state[\"questions\"]\n",
    "    )\n",
    "    \n",
    "    response = llm(messages=[{\"role\": \"system\", \"content\": prompt}])\n",
    "    llm_query = response.content\n",
    "    return RealEstateState(query=llm_query)"
   ]
  },
  {
   "cell_type": "markdown",
   "metadata": {},
   "source": [
    "# SQL Query 다듬는 노드"
   ]
  },
  {
   "cell_type": "code",
   "execution_count": 29,
   "metadata": {},
   "outputs": [],
   "source": [
    "def clean_sql_response(state: RealEstateState) -> RealEstateState:\n",
    "    # 'query' 키는 항상 존재한다고 가정\n",
    "    query = state['query']\n",
    "\n",
    "    # 코드 블록(````sql ... `````) 제거\n",
    "    if query.startswith(\"```sql\") and query.endswith(\"```\"):\n",
    "        query = query[6:-3].strip()  # \"```sql\" 제거 후 앞뒤 공백 제거\n",
    "\n",
    "    # SQL 문 끝에 세미콜론 추가 (필요시)\n",
    "    if not query.strip().endswith(\";\"):\n",
    "        query = query.strip() + \";\"\n",
    "        \n",
    "\n",
    "    # 상태 업데이트\n",
    "    return RealEstateState(query=query)"
   ]
  },
  {
   "cell_type": "markdown",
   "metadata": {},
   "source": [
    "# Query 결과 노드"
   ]
  },
  {
   "cell_type": "code",
   "execution_count": 30,
   "metadata": {},
   "outputs": [],
   "source": [
    "from langchain_community.tools.sql_database.tool import QuerySQLDataBaseTool\n",
    "\n",
    "def run_query(state: RealEstateState) -> RealEstateState:\n",
    "    tool = QuerySQLDataBaseTool(db=db)\n",
    "    results = tool._run(state[\"query\"])\n",
    "\n",
    "    return RealEstateState(results=results)"
   ]
  },
  {
   "cell_type": "markdown",
   "metadata": {},
   "source": [
    "# Answer 노드"
   ]
  },
  {
   "cell_type": "code",
   "execution_count": 31,
   "metadata": {},
   "outputs": [],
   "source": [
    "def answer(state: RealEstateState) -> RealEstateState:\n",
    "    results = state[\"results\"]\n",
    "\n",
    "    if len(results) == 0:\n",
    "        return RealEstateState(answer=\"검색 결과가 없습니다.\")\n",
    "\n",
    "    answer_prompt = \"\"\"\n",
    "    너는 글쓰는 사람이야\n",
    "    주어진 데이터를 참고해서 유저한테 보여줄 글을 이쁘게 써줘\n",
    "    형식은 Json이야\n",
    "    \n",
    "    주어진 데이터:\n",
    "    {results}\n",
    "    \"\"\"\n",
    "    prompt = answer_prompt.format(results=state[\"results\"])\n",
    "\n",
    "    response = llm(messages=[{\"role\": \"system\", \"content\": prompt}])\n",
    "\n",
    "    print(response.content)\n",
    "\n",
    "    return RealEstateState(answer=response.content)"
   ]
  },
  {
   "cell_type": "markdown",
   "metadata": {},
   "source": [
    "# add_node()"
   ]
  },
  {
   "cell_type": "code",
   "execution_count": 32,
   "metadata": {},
   "outputs": [
    {
     "data": {
      "text/plain": [
       "<langgraph.graph.state.StateGraph at 0x280e1ff9390>"
      ]
     },
     "execution_count": 32,
     "metadata": {},
     "output_type": "execute_result"
    }
   ],
   "source": [
    "graph.add_node(\"Filter Question\", filter_node)\n",
    "graph.add_node('Re_Questions', re_questions)\n",
    "graph.add_node(\"Property Rentals\", property_rental)\n",
    "graph.add_node('Property Sales', property_sales)\n",
    "graph.add_node('Clean Sql Response', clean_sql_response)\n",
    "graph.add_node(\"Run Query\", run_query)\n",
    "graph.add_node(\"Answer\", answer)"
   ]
  },
  {
   "cell_type": "markdown",
   "metadata": {},
   "source": [
    "# 그래프 실행"
   ]
  },
  {
   "cell_type": "code",
   "execution_count": 33,
   "metadata": {},
   "outputs": [
    {
     "name": "stdout",
     "output_type": "stream",
     "text": [
      "```json\n",
      "{\n",
      "  \"properties\": [\n",
      "    {\n",
      "      \"location\": \"강남구\",\n",
      "      \"description\": null,\n",
      "      \"price\": 360000,\n",
      "      \"latitude\": 37.4931444,\n",
      "      \"longitude\": 127.0590787\n",
      "    },\n",
      "    {\n",
      "      \"location\": \"강남구\",\n",
      "      \"description\": \"♡ since 2003년 미 노출중인 A급 매물 다수 보유 중\\n♣ 같은자리 20년이상 경력과 신뢰를 바탕으로 고객님 니즈에 맞춰서 최적의 컨설팅을 해드립니다.\\n\\n☎  02  576  7489     010  5162  7489  새롬 공인중개사사무소 (포이초등학교앞)\\n\\n-------------\\n\\n[매물정보] ---- 다양한 조건에 맞춰서 최대한 협의 가능합니다.!!!\\n\\n▶ 지하1층~지상4층 현재 집회및 문화시설로 되어있지만 올근생으로 변경가능\\n★ 국악고 및 양재ic인근 외부 진출입 편리한 위치\\n★ 개발...\",\n",
      "      \"price\": 780000,\n",
      "      \"latitude\": 37.4751819,\n",
      "      \"longitude\": 127.0529911\n",
      "    },\n",
      "    {\n",
      "      \"location\": \"강남구\",\n",
      "      \"description\": \"♥ 같은자리 20년 경력만큼 미 노출중인 물건 다수 보유중이니 문의주시면 마음에 꼭 드시는 물건으로 보답하겠습니다 ♥\\n♧새롬공인중개사사무소(포이초등학교앞))/ {매수,매도,갭투자 문의환영}\\n\\n☎ 02 576 7489     010 5162 7489 [편리한 문자 문의 가능]\\n=================\\n\\n[매물특징]\\n\\n★ 강남 입성의 마지막 기회 개포동 4동 재개발!!!\\n+개포동의 입지 가치와 그동안 개발을 막아왔던 각종 규제가 해제되면서 구룡마을 등을 포함한\\n  개포동은 대규모 개발이 가능한 강남구...\",\n",
      "      \"price\": 330000,\n",
      "      \"latitude\": 37.4751819,\n",
      "      \"longitude\": 127.0529911\n",
      "    },\n",
      "    {\n",
      "      \"location\": \"강남구\",\n",
      "      \"description\": null,\n",
      "      \"price\": 470000,\n",
      "      \"latitude\": 37.4931444,\n",
      "      \"longitude\": 127.0590787\n",
      "    },\n",
      "    {\n",
      "      \"location\": \"강남구\",\n",
      "      \"description\": null,\n",
      "      \"price\": 307000,\n",
      "      \"latitude\": 37.4931444,\n",
      "      \"longitude\": 127.0590787\n",
      "    }\n",
      "  ]\n",
      "}\n",
      "```\n",
      "{'real_estate_type': '매매', 'questions': '강남 10억 매매', 'query': 'SELECT \\n  pl.sigungu,\\n  pi.description,\\n  CAST(REPLACE(ps.price, \\',\\', \\'\\') AS INTEGER) AS \"금액(만원)\",\\n  pl.latitude,\\n  pl.longitude\\nFROM property_sales ps\\nJOIN property_info pi ON ps.property_id = pi.property_id\\nJOIN property_locations pl ON pi.location_id = pl.location_id\\nWHERE pl.sigungu LIKE \\'%강남구%\\'\\nAND CAST(REPLACE(ps.price, \\',\\', \\'\\') AS INTEGER) <= 1000000\\nLIMIT 5;', 'results': \"[('강남구', None, 360000, 37.4931444, 127.0590787), ('강남구', '♡ since 2003년 미 노출중인 A급 매물 다수 보유 중\\\\r\\\\n♣ 같은자리 20년이상 경력과 신뢰를 바탕으로 고객님 니즈에 맞춰서 최적의 컨설팅을 해드립니다.\\\\r\\\\n\\\\r\\\\n☎  02  576  7489     010  5162  7489  새롬 공인중개사사무소 (포이초등학교앞)\\\\r\\\\n\\\\r\\\\n-------------\\\\r\\\\n\\\\r\\\\n[매물정보] ---- 다양한 조건에 맞춰서 최대한 협의 가능합니다.!!!\\\\r\\\\n\\\\r\\\\n▶ 지하1층~지상4층 현재 집회및 문화시설로 되어있지만 올근생으로 변경가능\\\\r\\\\n★ 국악고 및 양재ic인근 외부 진출입 편리한 위치\\\\r\\\\n★ 개발...', 780000, 37.4751819, 127.0529911), ('강남구', '♥ 같은자리 20년 경력만큼 미 노출중인 물건 다수 보유중이니 문의주시면 마음에 꼭 드시는 물건으로 보답하겠습니다 ♥\\\\r\\\\n♧새롬공인중개사사무소(포이초등학교앞))/ {매수,매도,갭투자 문의환영}\\\\r\\\\n\\\\r\\\\n☎ 02 576 7489     010 5162 7489 [편리한 문자 문의 가능]\\\\r\\\\n=================\\\\r\\\\n\\\\r\\\\n[매물특징]\\\\r\\\\n\\\\r\\\\n★ 강남 입성의 마지막 기회 개포동 4동 재개발!!!\\\\r\\\\n+개포동의 입지 가치와 그동안 개발을 막아왔던 각종 규제가 해제되면서 구룡마을 등을 포함한\\\\r\\\\n  개포동은 대규모 개발이 가능한 강남구...', 330000, 37.4751819, 127.0529911), ('강남구', None, 470000, 37.4931444, 127.0590787), ('강남구', None, 307000, 37.4931444, 127.0590787)]\"}\n"
     ]
    },
    {
     "data": {
      "image/png": "[encoded data removed]",
      "text/plain": [
       "<IPython.core.display.Image object>"
      ]
     },
     "metadata": {},
     "output_type": "display_data"
    }
   ],
   "source": [
    "from IPython.display import Image, display\n",
    "\n",
    "# 조건부 엣지 추가\n",
    "graph.add_conditional_edges(\n",
    "    \"Filter Question\",\n",
    "    fiter_router,\n",
    "    { 'None': \"Re_Questions\", '매매': \"Property Sales\", '전월세': 'Property Rentals'}\n",
    ")\n",
    "\n",
    "\n",
    "# START에서 'Filter Question' 노드로 엣지 추가\n",
    "graph.add_edge(START, \"Filter Question\")\n",
    "graph.add_edge(\"Re_Questions\", \"Filter Question\")\n",
    "graph.add_edge(\"Property Rentals\", 'Clean Sql Response')\n",
    "graph.add_edge(\"Property Sales\", 'Clean Sql Response')\n",
    "graph.add_edge('Clean Sql Response', 'Run Query')\n",
    "graph.add_edge('Run Query', \"Answer\")\n",
    "graph.add_edge(\"Answer\", END)\n",
    "\n",
    "\n",
    "# 그래프 컴파일\n",
    "app = graph.compile()\n",
    "\n",
    "# 그래프 실행\n",
    "result = app.invoke({'questions':input(\"안녕하세요!!! 부동산 챗봇입니다!!! 부동산에 대한 질문을 입력해주세요: \")})\n",
    "print(result) \n",
    "\n",
    "\n",
    "graph_image = app.get_graph().draw_mermaid_png()\n",
    "display(Image(graph_image))"
   ]
  },
  {
   "cell_type": "code",
   "execution_count": 34,
   "metadata": {},
   "outputs": [
    {
     "name": "stdout",
     "output_type": "stream",
     "text": [
      "SELECT \n",
      "  pl.sigungu,\n",
      "  pi.description,\n",
      "  CAST(REPLACE(ps.price, ',', '') AS INTEGER) AS \"금액(만원)\",\n",
      "  pl.latitude,\n",
      "  pl.longitude\n",
      "FROM property_sales ps\n",
      "JOIN property_info pi ON ps.property_id = pi.property_id\n",
      "JOIN property_locations pl ON pi.location_id = pl.location_id\n",
      "WHERE pl.sigungu LIKE '%강남구%'\n",
      "AND CAST(REPLACE(ps.price, ',', '') AS INTEGER) <= 1000000\n",
      "LIMIT 5;\n"
     ]
    }
   ],
   "source": [
    "print(result['query'])"
   ]
  },
  {
   "cell_type": "code",
   "execution_count": 58,
   "metadata": {},
   "outputs": [
    {
     "name": "stdout",
     "output_type": "stream",
     "text": [
      "추출된 데이터: {'지역': '강남', '가격': '없음', '거래유형': '없음'}\n"
     ]
    }
   ],
   "source": [
    "import json\n",
    "import re\n",
    "\n",
    "# 사용자 입력 받기\n",
    "questions = input(\"질문을 입력해주세요: \")\n",
    "\n",
    "# 한글 숫자 표현 변환 함수\n",
    "def convert_price_korean_to_numeric(price_str):\n",
    "    \"\"\"Convert Korean price format (e.g., '3억') to numeric format (e.g., 30000).\"\"\"\n",
    "    match = re.match(r\"(\\d+)(억)?(\\d+)?(천)?\", price_str)\n",
    "    if not match:\n",
    "        return None  # 변환 실패 시 None 반환\n",
    "    \n",
    "    billion = int(match.group(1)) if match.group(1) else 0\n",
    "    million = int(match.group(3)) if match.group(3) else 0\n",
    "\n",
    "    # '억'이 있으면 천 단위로 계산\n",
    "    total = billion * 10000 + million\n",
    "    return total\n",
    "\n",
    "# 프롬프트 정의\n",
    "filter_prompt = PromptTemplate(\n",
    "    input_variables=[\"questions\"],\n",
    "    template=\"\"\"\n",
    "    {questions}에 대한 정보를 추출하고 다음과 같은 규칙을 따르세요:\n",
    "\n",
    "    Extract keywords from the input text and structure them according to the specified rules.\n",
    "\n",
    "    Ensure the output meets the following criteria:\n",
    "    - The output must be in JSON format with specific keys: \"지역\" (region), \"가격\" (price), and \"거래유형\" (transaction type - 매매, 전세, 월세).\n",
    "    - Convert the price to a numerical value (e.g., from \"10억\" to 100000).\n",
    "    - If a keyword is missing in the question, fill the JSON field with '없음'.\n",
    "\n",
    "    Output Format:\n",
    "    Produce a JSON object containing the extracted and formatted data. Keep fields as '없음' if not identified.\n",
    "    \"\"\"\n",
    ")\n",
    "\n",
    "# 템플릿을 기반으로 프롬프트 생성\n",
    "prompt = filter_prompt.format(questions=questions)\n",
    "\n",
    "# LLM 호출\n",
    "response = llm(messages=[{\"role\": \"system\", \"content\": prompt}])\n",
    "\n",
    "# 응답 처리\n",
    "try:\n",
    "    # JSON 부분 추출\n",
    "    json_match = re.search(r\"\\{.*\\}\", response.content, re.DOTALL)\n",
    "    if json_match:\n",
    "        json_data = json_match.group(0)  # JSON 문자열 추출\n",
    "        extracted_data = json.loads(json_data)  # JSON 파싱\n",
    "\n",
    "        # 가격 변환 적용\n",
    "        if \"가격\" in extracted_data and isinstance(extracted_data[\"가격\"], int):\n",
    "            price_str = f\"{extracted_data['가격'] // 100000000}억\"\n",
    "            extracted_data[\"가격\"] = convert_price_korean_to_numeric(price_str)\n",
    "\n",
    "        print(\"추출된 데이터:\", extracted_data)\n",
    "    else:\n",
    "        print(\"JSON 형식을 찾을 수 없습니다. 응답 내용:\", response.content)\n",
    "except json.JSONDecodeError:\n",
    "    print(\"JSON 변환에 실패했습니다. 응답 내용:\")\n",
    "    print(response.content)\n"
   ]
  },
  {
   "cell_type": "code",
   "execution_count": null,
   "metadata": {},
   "outputs": [],
   "source": []
  }
 ],
 "metadata": {
  "kernelspec": {
   "display_name": "nlp",
   "language": "python",
   "name": "python3"
  },
  "language_info": {
   "codemirror_mode": {
    "name": "ipython",
    "version": 3
   },
   "file_extension": ".py",
   "mimetype": "text/x-python",
   "name": "python",
   "nbconvert_exporter": "python",
   "pygments_lexer": "ipython3",
   "version": "3.10.14"
  }
 },
 "nbformat": 4,
 "nbformat_minor": 2
}
