{
 "cells": [
  {
   "cell_type": "markdown",
   "metadata": {},
   "source": [
    "# env 및 랭스미스"
   ]
  },
  {
   "cell_type": "code",
   "execution_count": 123,
   "metadata": {},
   "outputs": [
    {
     "data": {
      "text/plain": [
       "True"
      ]
     },
     "execution_count": 123,
     "metadata": {},
     "output_type": "execute_result"
    }
   ],
   "source": [
    "from langsmith import Client\n",
    "from dotenv import load_dotenv\n",
    "\n",
    "client = Client()\n",
    "load_dotenv()"
   ]
  },
  {
   "cell_type": "markdown",
   "metadata": {},
   "source": [
    "# 그래프 상태 정의"
   ]
  },
  {
   "cell_type": "code",
   "execution_count": 224,
   "metadata": {},
   "outputs": [],
   "source": [
    "from typing import TypedDict\n",
    "\n",
    "class RealEstateState(TypedDict): # 그래프의 상태를 정의하는 클래스\n",
    "    real_estate_type: str  # 부동산 유형 (예: 아파트, 상가)\n",
    "    questions: list[str]        # 유저 질문\n",
    "    query: str             # 생성된 SQL 쿼리\n",
    "    results: list[dict]          # 쿼리 결과"
   ]
  },
  {
   "cell_type": "markdown",
   "metadata": {},
   "source": [
    "# 노드 정의"
   ]
  },
  {
   "cell_type": "code",
   "execution_count": 225,
   "metadata": {},
   "outputs": [],
   "source": [
    "from langgraph.graph import StateGraph, START, END\n",
    "from langchain.prompts import PromptTemplate\n",
    "from langchain_openai.chat_models.base import ChatOpenAI\n",
    "\n",
    "# Step 1: LLM 초기화\n",
    "llm = ChatOpenAI(model=\"gpt-4o-mini\", temperature=0.5)\n",
    "\n",
    "# Step 2: StateGraph 정의\n",
    "graph = StateGraph(RealEstateState)\n",
    "\n",
    "# Step 3: 노드 정의\n",
    "\n",
    "## 필터링 노드\n",
    "def filter_node(state: RealEstateState) -> RealEstateState :\n",
    "    filter_prompt = PromptTemplate(\n",
    "        input_variables=[\"questions\"],\n",
    "        template=\"\"\" '{questions}'이 부동산과 관련된 질문인지를 파악하고 다음과 같은 규칙을 지켜라\n",
    "        1. 부동산 관련 질문이 아니면 'None'을 반환해라\n",
    "        2. 부동산 관련 질문 중 에서 매매면 '매매'를 반환해라\n",
    "        3. 전세 그리고 월세랑 관련된 질문이면 '전월세'를 반환해라.\n",
    "        \"\"\")\n",
    "    \n",
    "    prompt=filter_prompt.format(questions=state[\"questions\"])\n",
    "\n",
    "    response = llm(messages=[{\"role\": \"system\", \"content\": prompt}])\n",
    "\n",
    "    real_estate_type = response.content\n",
    "    \n",
    "    return RealEstateState(real_estate_type=real_estate_type)\n",
    "\n",
    "def re_questions(state: RealEstateState) -> RealEstateState:\n",
    "\n",
    "    print(\"=================================\")\n",
    "    print(\"[re_questions] 질문이 부동산 관련이 아니거나 제대로 인식되지 않았습니다.\")\n",
    "    new_question = input(\"새로운 부동산 질문을 입력해주세요: \")\n",
    "    print(\"=================================\")\n",
    "\n",
    "    # 수정된 질문을 state에 업데이트\n",
    "\n",
    "    return RealEstateState(questions=new_question)\n",
    "\n",
    "def fiter_router(state: RealEstateState):\n",
    "    # This is the router\n",
    "    real_estate_type = state[\"real_estate_type\"]\n",
    "\n",
    "    if real_estate_type == \"매매\":\n",
    "        return \"매매\"\n",
    "    elif real_estate_type == \"전월세\":\n",
    "        return \"전월세\"\n",
    "    else:\n",
    "        return 'None'\n",
    "    \n"
   ]
  },
  {
   "cell_type": "markdown",
   "metadata": {},
   "source": [
    "# DB 생성 조회"
   ]
  },
  {
   "cell_type": "code",
   "execution_count": 226,
   "metadata": {},
   "outputs": [
    {
     "name": "stderr",
     "output_type": "stream",
     "text": [
      "c:\\Users\\USER\\anaconda3\\envs\\nlp\\lib\\site-packages\\langchain_experimental\\sql\\base.py:77: UserWarning: Directly instantiating an SQLDatabaseChain with an llm is deprecated. Please instantiate with llm_chain argument or using the from_llm class method.\n",
      "  warnings.warn(\n"
     ]
    }
   ],
   "source": [
    "from langchain_community.utilities import SQLDatabase\n",
    "from langchain_experimental.sql import SQLDatabaseChain\n",
    "import sqlite3\n",
    "from langchain_community.utilities.sql_database import SQLDatabase\n",
    "from sqlalchemy import create_engine\n",
    "from sqlalchemy.pool import StaticPool\n",
    "\n",
    "def get_db_engine(db_path):\n",
    "    \"\"\"로컬 SQLite DB 파일과 연결된 엔진을 생성합니다.\"\"\"\n",
    "    try:\n",
    "        # SQLite DB 파일과 연결\n",
    "        connection = sqlite3.connect(db_path, check_same_thread=False)\n",
    "        \n",
    "        # SQLAlchemy 엔진 생성\n",
    "        engine = create_engine(\n",
    "            f\"sqlite:///{db_path}\",\n",
    "            poolclass=StaticPool,\n",
    "            connect_args={\"check_same_thread\": False}\n",
    "        )\n",
    "        \n",
    "        return engine\n",
    "    \n",
    "    except Exception as e:\n",
    "        print(f\"데이터베이스 연결 중 오류 발생: {str(e)}\")\n",
    "        return None\n",
    "\n",
    "# DB 파일 경로 지정\n",
    "db_path = './data/real_estate.db'\n",
    "\n",
    "engine = get_db_engine(db_path)\n",
    "\n",
    "db = SQLDatabase(\n",
    "    engine,\n",
    "    sample_rows_in_table_info=False  # 샘플 행 조회 비활성화\n",
    ")\n",
    "\n",
    "sql_chain = SQLDatabaseChain(llm=llm, database=db, verbose=True)"
   ]
  },
  {
   "cell_type": "markdown",
   "metadata": {},
   "source": [
    "# 매매, 전월세 프롬프트 및 노드생성\n"
   ]
  },
  {
   "cell_type": "code",
   "execution_count": 227,
   "metadata": {},
   "outputs": [],
   "source": [
    "def property_rental(state: RealEstateState) -> RealEstateState:\n",
    "    property_rental = db.get_table_info(table_names=[\"property_rentals\", \"property_info\", \"property_locations\"])\n",
    "\n",
    "    rental_prompt = \"\"\"\n",
    "    질문:\n",
    "    {questions}\n",
    "\n",
    "    사용 가능한 테이블 스키마:\n",
    "    {property_rental}\n",
    "\n",
    "    당신은 SQL 전문가입니다. \n",
    "    데이터베이스는 {dialect} 방언을 사용합니다.\n",
    "\n",
    "    다음 규칙을 따라주세요:\n",
    "    1. 한국어로 응답해주세요.\n",
    "    2. SQL 쿼리를 작성할 때는 명확하고 효율적이어야 합니다.\n",
    "    3. 결과는 최대 {top_k}개까지만 보여주세요.\n",
    "    4. 금액에 관련된 쿼리를 작성할 때는 쉼표(,)를 제거하고 숫자로 변환해야 합니다.\n",
    "    5. 에러가 발생하면 원인을 설명하고 수정된 쿼리를 제시해주세요.\n",
    "    6. rental_type이 30051B1는 전세입니다.\n",
    "    7. rental_type이 30051B2는 월세입니다.\n",
    "\n",
    "    SELECT \n",
    "        pl.sigungu,\n",
    "        pi.description,\n",
    "        pr.deposit as \"보증금(만원)\",\n",
    "        pl.latitude,\n",
    "        pl.longitude\n",
    "    FROM property_rentals pr\n",
    "    JOIN property_info pi ON pr.property_id = pi.property_id\n",
    "    JOIN property_locations pl ON pi.location_id = pl.location_id\n",
    "    WHERE pl.sigungu LIKE '%강남구%'\n",
    "    AND pr.rental_type = '30051B1'\n",
    "    AND CAST(REPLACE(pr.deposit, ',', '') AS DECIMAL) <= 10000;\n",
    "\n",
    "    이런식으로 쿼리를 짜줘.\n",
    "    \"\"\"\n",
    "\n",
    "    prompt=rental_prompt.format(\n",
    "        dialect=\"SQLite\",\n",
    "        top_k=5, \n",
    "        property_rental=property_rental,\n",
    "        questions=state[\"questions\"]\n",
    "    )\n",
    "\n",
    "    response = llm(messages=[{\"role\": \"system\", \"content\": prompt}])\n",
    "\n",
    "    llm_query = response.content\n",
    "\n",
    "    return RealEstateState(query=llm_query)\n"
   ]
  },
  {
   "cell_type": "code",
   "execution_count": 228,
   "metadata": {},
   "outputs": [],
   "source": [
    "def property_sales(state: RealEstateState) -> RealEstateState:\n",
    "    property_sales = db.get_table_info(table_names=[\"property_sales\", \"property_info\", \"property_locations\"])\n",
    "\n",
    "    sales_prompt = \"\"\"\n",
    "    당신은 SQL 전문가로서 한국어로 질문에 맞는 SQL 쿼리를 작성하세요. 데이터베이스는 특정 SQL 방언을 사용하며, 테이블 스키마는 주어진 대로 사용해야 합니다.\n",
    "\n",
    "- 사용 가능한 테이블 스키마: {property_sales}\n",
    "- 데이터베이스 SQL 방언: {dialect}\n",
    "\n",
    "다음 규칙을 준수하세요:\n",
    "\n",
    "1. 한국어로 답변을 작성하세요.\n",
    "2. 작성한 SQL 쿼리는 명확하고 효율적이어야 합니다.\n",
    "3. 쿼리 결과는 최대 {top_k}개까지만 출력하도록 하세요.\n",
    "4. 금액 관련 쿼리를 작성할 때는 금액에 포함된 쉼표(,)를 제거하고 숫자로 변환해야 합니다.\n",
    "5. 에러가 발생하면 원인을 설명하고 수정된 쿼리를 제시하세요.\n",
    "\n",
    "# Steps\n",
    "\n",
    "1. 질문 분석: 주어진 질문을 분석하여 필요한 데이터를 정의합니다.\n",
    "2. SQL 쿼리 작성: 질문에 따라 명확하고 효율적인 SQL 쿼리를 작성합니다.\n",
    "3. 쿼리 변환: 필요에 따라 금액에 포함된 쉼표(,)를 제거하고 숫자로 변환하는 과정을 포함합니다.\n",
    "4. 에러 관리: 에러 발생 시, 원인을 설명하고 수정된 쿼리를 제공합니다.\n",
    "\n",
    "# Output Format\n",
    "\n",
    "다음과 같은 구조의 SQL 쿼리와 추가 설명을 제공합니다.\n",
    "- SQL 쿼리: 명확한 SQL 코드\n",
    "- 설명: 쿼리의 목적 및 주요 기능 설명\n",
    "\n",
    "# Examples\n",
    "\n",
    "- 예시 질문: \"서울시 강남구 10억 이하 매물을 추천해줘\"\n",
    "  \n",
    "  **SQL 쿼리**\n",
    "  ```sql\n",
    "  SELECT \n",
    "      pl.sigungu,\n",
    "      pi.description,\n",
    "      ps.price as \"금액(만원)\",\n",
    "      pl.longitude\n",
    "  FROM property_sales ps\n",
    "  JOIN property_info pi ON ps.property_id = pi.property_id\n",
    "  JOIN property_locations pl ON pi.location_id = pl.location_id\n",
    "  WHERE pl.sigungu LIKE '%강남구%'\n",
    "  AND CAST(REPLACE(ps.price, ',', '') AS DECIMAL) <= 100000\n",
    "  ```\n",
    "\n",
    "  **설명**\n",
    "  - '강남구'에 위치한 10억 이하의 매물을 조회하는 쿼리\n",
    "  - 금액에 포함된 쉼표를 제거하고 숫자 비교를 수행\n",
    "\n",
    "# Notes\n",
    "\n",
    "- 최적의 SQL 방언을 사용하여 쿼리를 작성하세요.\n",
    "- 주어진 테이블 스키마를 기반으로 하여 쿼리를 작성해야 합니다.\n",
    "- 숫자 변환 과정에서 발생할 수 있는 오류를 미리 점검하세요.\n",
    "\n",
    "    \"\"\"\n",
    "    prompt=sales_prompt.format(\n",
    "        dialect=\"SQLite\",\n",
    "        top_k=5, \n",
    "        property_rental=property_sales,\n",
    "    )\n",
    "\n",
    "    \n",
    "    response = llm(messages=[{\"role\": \"system\", \"content\": prompt}])\n",
    "\n",
    "    llm_query = response.content\n",
    "\n",
    "    return RealEstateState(query=llm_query)\n"
   ]
  },
  {
   "cell_type": "code",
   "execution_count": 229,
   "metadata": {},
   "outputs": [
    {
     "data": {
      "text/plain": [
       "<langgraph.graph.state.StateGraph at 0x1fa553ba380>"
      ]
     },
     "execution_count": 229,
     "metadata": {},
     "output_type": "execute_result"
    }
   ],
   "source": [
    "graph.add_node(\"Filter Question\", filter_node)\n",
    "graph.add_node('Re_Questions', re_questions)\n",
    "graph.add_node(\"Property Rentals\", property_rental)\n",
    "graph.add_node('Property Sales', property_sales)"
   ]
  },
  {
   "cell_type": "code",
   "execution_count": 230,
   "metadata": {},
   "outputs": [
    {
     "name": "stdout",
     "output_type": "stream",
     "text": [
      "{'real_estate_type': '전월세', 'questions': '강남 전세 10억 추천', 'query': '아래는 강남구에서 전세로 10억 원 이하의 매물을 조회하는 SQL 쿼리입니다. 보증금은 만 원 단위로 표시됩니다.\\n\\n```sql\\nSELECT \\n    pl.sigungu,\\n    pi.description,\\n    CAST(REPLACE(pr.deposit, \\',\\', \\'\\') AS DECIMAL) / 10000 AS \"보증금(만원)\",\\n    pl.latitude,\\n    pl.longitude\\nFROM property_rentals pr\\nJOIN property_info pi ON pr.property_id = pi.property_id\\nJOIN property_locations pl ON pi.location_id = pl.location_id\\nWHERE pl.sigungu LIKE \\'%강남구%\\'\\nAND pr.rental_type = \\'30051B1\\'\\nAND CAST(REPLACE(pr.deposit, \\',\\', \\'\\') AS DECIMAL) <= 1000000\\nLIMIT 5;\\n```\\n\\n이 쿼리에서는 `pr.deposit`의 값을 만 원 단위로 변환하기 위해 10000으로 나누었고, 보증금이 10억 원 이하인 매물을 선택했습니다. `LIMIT 5`를 통해 최대 5개의 결과만 표시하도록 설정했습니다.'}\n"
     ]
    },
    {
     "data": {
      "image/png": "[encoded data removed]",
      "text/plain": [
       "<IPython.core.display.Image object>"
      ]
     },
     "metadata": {},
     "output_type": "display_data"
    }
   ],
   "source": [
    "from IPython.display import Image, display\n",
    "\n",
    "# 조건부 엣지 추가\n",
    "graph.add_conditional_edges(\n",
    "    \"Filter Question\",\n",
    "    fiter_router,\n",
    "    { 'None': \"Re_Questions\", '매매': \"Property Sales\", '전월세': 'Property Rentals'}\n",
    ")\n",
    "\n",
    "# START에서 'Filter Question' 노드로 엣지 추가\n",
    "graph.add_edge(START, \"Filter Question\")\n",
    "graph.add_edge(\"Re_Questions\", \"Filter Question\")\n",
    "graph.add_edge(\"Property Rentals\", END)\n",
    "graph.add_edge(\"Property Sales\", END)\n",
    "\n",
    "\n",
    "# 그래프 컴파일\n",
    "app = graph.compile()\n",
    "\n",
    "# 그래프 실행\n",
    "result = app.invoke({'questions':input()})\n",
    "print(result) \n",
    "\n",
    "\n",
    "graph_image = app.get_graph().draw_mermaid_png()\n",
    "display(Image(graph_image))"
   ]
  }
 ],
 "metadata": {
  "kernelspec": {
   "display_name": "nlp",
   "language": "python",
   "name": "python3"
  },
  "language_info": {
   "codemirror_mode": {
    "name": "ipython",
    "version": 3
   },
   "file_extension": ".py",
   "mimetype": "text/x-python",
   "name": "python",
   "nbconvert_exporter": "python",
   "pygments_lexer": "ipython3",
   "version": "3.10.14"
  }
 },
 "nbformat": 4,
 "nbformat_minor": 2
}
